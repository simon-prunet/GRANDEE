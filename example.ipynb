{
 "cells": [
  {
   "cell_type": "code",
   "execution_count": 1,
   "id": "202c5709-f3a7-43b9-8ac3-0845fa4d1840",
   "metadata": {},
   "outputs": [
    {
     "name": "stdout",
     "output_type": "stream",
     "text": [
      "Welcome to JupyROOT 6.26/10\n"
     ]
    }
   ],
   "source": [
    "import grand.dataio.root_files as froot\n",
    "import torch\n",
    "from torch.utils.data import Dataset\n",
    "import os\n",
    "from dataset import GRAND_DC2_TracesDataset\n",
    "\n",
    "from matplotlib import pyplot as plt\n",
    "%matplotlib inline"
   ]
  },
  {
   "cell_type": "code",
   "execution_count": 2,
   "id": "29100254-ce8b-49c7-a454-16e86e61ea65",
   "metadata": {},
   "outputs": [
    {
     "data": {
      "text/plain": [
       "True"
      ]
     },
     "execution_count": 2,
     "metadata": {},
     "output_type": "execute_result"
    }
   ],
   "source": [
    "torch.cuda.is_available()"
   ]
  },
  {
   "cell_type": "code",
   "execution_count": 3,
   "id": "6e7e5a2e-16cd-4bca-9a0d-937c8b7264fa",
   "metadata": {},
   "outputs": [
    {
     "data": {
      "text/plain": [
       "'Tesla K80'"
      ]
     },
     "execution_count": 3,
     "metadata": {},
     "output_type": "execute_result"
    }
   ],
   "source": [
    "torch.cuda.get_device_name(0)"
   ]
  },
  {
   "cell_type": "code",
   "execution_count": null,
   "id": "2f54ad42-acf2-429b-99e8-6828ed7fface",
   "metadata": {},
   "outputs": [],
   "source": []
  },
  {
   "cell_type": "code",
   "execution_count": 15,
   "id": "5b54deaf-cbaa-4bca-b25b-9c97cc3ba745",
   "metadata": {},
   "outputs": [],
   "source": [
    "d = GRAND_DC2_TracesDataset(transform='pad')"
   ]
  },
  {
   "cell_type": "code",
   "execution_count": 16,
   "id": "177e9c88-0e46-4ff2-a75f-8ba1f88bee8e",
   "metadata": {},
   "outputs": [
    {
     "data": {
      "text/plain": [
       "12000"
      ]
     },
     "execution_count": 16,
     "metadata": {},
     "output_type": "execute_result"
    }
   ],
   "source": [
    "len(d)"
   ]
  },
  {
   "cell_type": "code",
   "execution_count": 17,
   "id": "85c46c72-f3e1-4a41-a304-db60f1465d39",
   "metadata": {},
   "outputs": [
    {
     "name": "stderr",
     "output_type": "stream",
     "text": [
      "DC2 FIX to define 'xmax_pos' in DU Frame\n",
      "DC2 FIX to define 'xmax_pos' in DU Frame\n"
     ]
    }
   ],
   "source": [
    "traces, idx = d[2001]"
   ]
  },
  {
   "cell_type": "code",
   "execution_count": 18,
   "id": "99711dff-7bc3-40d3-9212-9e240a9c5d6a",
   "metadata": {},
   "outputs": [
    {
     "name": "stdout",
     "output_type": "stream",
     "text": [
      "torch.Size([300, 3, 8192]) torch.Size([300])\n"
     ]
    }
   ],
   "source": [
    "print(traces.shape, idx.shape)"
   ]
  },
  {
   "cell_type": "code",
   "execution_count": 19,
   "id": "64222f32-3e35-4c05-bd8d-ba64dc297af5",
   "metadata": {},
   "outputs": [
    {
     "data": {
      "text/plain": [
       "[<matplotlib.lines.Line2D at 0x7fca98579d90>]"
      ]
     },
     "execution_count": 19,
     "metadata": {},
     "output_type": "execute_result"
    },
    {
     "data": {
      "image/png": "[encoded data removed]",
      "text/plain": [
       "<Figure size 640x480 with 1 Axes>"
      ]
     },
     "metadata": {},
     "output_type": "display_data"
    }
   ],
   "source": [
    "plt.plot(traces[0,0,:])\n",
    "plt.plot(traces[0,1,:])\n",
    "plt.plot(traces[0,2,:])"
   ]
  },
  {
   "cell_type": "code",
   "execution_count": 20,
   "id": "db859244-99f0-4474-8f92-83db98b6bdd0",
   "metadata": {},
   "outputs": [],
   "source": [
    "from torch.utils.data import DataLoader"
   ]
  },
  {
   "cell_type": "code",
   "execution_count": 37,
   "id": "8c5123c0-7000-489d-9640-2f90cd4c3572",
   "metadata": {},
   "outputs": [],
   "source": [
    "data = DataLoader(d,batch_size=5,shuffle=True)"
   ]
  },
  {
   "cell_type": "code",
   "execution_count": 38,
   "id": "12e72b2d-801b-4b0c-a95e-e1e8f2febd34",
   "metadata": {},
   "outputs": [
    {
     "name": "stderr",
     "output_type": "stream",
     "text": [
      "DC2 FIX to define 'xmax_pos' in DU Frame\n",
      "DC2 FIX to define 'xmax_pos' in DU Frame\n",
      "DC2 FIX to define 'xmax_pos' in DU Frame\n",
      "DC2 FIX to define 'xmax_pos' in DU Frame\n",
      "DC2 FIX to define 'xmax_pos' in DU Frame\n",
      "DC2 FIX to define 'xmax_pos' in DU Frame\n",
      "DC2 FIX to define 'xmax_pos' in DU Frame\n",
      "DC2 FIX to define 'xmax_pos' in DU Frame\n",
      "DC2 FIX to define 'xmax_pos' in DU Frame\n",
      "DC2 FIX to define 'xmax_pos' in DU Frame\n"
     ]
    }
   ],
   "source": [
    "a,b = next(iter(data))"
   ]
  },
  {
   "cell_type": "code",
   "execution_count": 39,
   "id": "d3ef14b5-596f-4964-8d19-cd3bd7354469",
   "metadata": {},
   "outputs": [
    {
     "data": {
      "text/plain": [
       "torch.Size([5, 300, 3, 8192])"
      ]
     },
     "execution_count": 39,
     "metadata": {},
     "output_type": "execute_result"
    }
   ],
   "source": [
    "a.shape"
   ]
  },
  {
   "cell_type": "code",
   "execution_count": 40,
   "id": "6f41de5c-5fee-4d47-ace9-23f564d5c1e9",
   "metadata": {},
   "outputs": [
    {
     "data": {
      "text/plain": [
       "torch.Size([5, 300])"
      ]
     },
     "execution_count": 40,
     "metadata": {},
     "output_type": "execute_result"
    }
   ],
   "source": [
    "b.shape"
   ]
  },
  {
   "cell_type": "code",
   "execution_count": null,
   "id": "8544b89d-96e4-4aff-9d8d-d318d1fc46b1",
   "metadata": {},
   "outputs": [],
   "source": []
  }
 ],
 "metadata": {
  "kernelspec": {
   "display_name": "grandio",
   "language": "python",
   "name": "python-3.11"
  },
  "language_info": {
   "codemirror_mode": {
    "name": "ipython",
    "version": 3
   },
   "file_extension": ".py",
   "mimetype": "text/x-python",
   "name": "python",
   "nbconvert_exporter": "python",
   "pygments_lexer": "ipython3",
   "version": "3.11.9"
  }
 },
 "nbformat": 4,
 "nbformat_minor": 5
}

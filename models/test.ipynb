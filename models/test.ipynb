{
 "cells": [
  {
   "cell_type": "code",
   "execution_count": 2,
   "metadata": {},
   "outputs": [],
   "source": [
    "from basicblock import pixel_unshuffle, pixel_shuffle\n",
    "from torch import Tensor\n",
    "import torch"
   ]
  },
  {
   "cell_type": "code",
   "execution_count": 3,
   "metadata": {},
   "outputs": [],
   "source": [
    "t = Tensor([[[1,2],[3,4]],[[5,6],[7,8]]])"
   ]
  },
  {
   "cell_type": "code",
   "execution_count": 4,
   "metadata": {},
   "outputs": [],
   "source": [
    "tt = pixel_shuffle(t,2)"
   ]
  },
  {
   "cell_type": "code",
   "execution_count": 5,
   "metadata": {},
   "outputs": [
    {
     "data": {
      "text/plain": [
       "torch.Size([2, 1, 4])"
      ]
     },
     "execution_count": 5,
     "metadata": {},
     "output_type": "execute_result"
    }
   ],
   "source": [
    "tt.shape"
   ]
  },
  {
   "cell_type": "code",
   "execution_count": 6,
   "metadata": {},
   "outputs": [],
   "source": [
    "ttt=pixel_unshuffle(tt,2)"
   ]
  },
  {
   "cell_type": "code",
   "execution_count": 7,
   "metadata": {},
   "outputs": [
    {
     "data": {
      "text/plain": [
       "tensor([[[1., 2.],\n",
       "         [3., 4.]],\n",
       "\n",
       "        [[5., 6.],\n",
       "         [7., 8.]]])"
      ]
     },
     "execution_count": 7,
     "metadata": {},
     "output_type": "execute_result"
    }
   ],
   "source": [
    "ttt"
   ]
  },
  {
   "cell_type": "code",
   "execution_count": 8,
   "metadata": {},
   "outputs": [
    {
     "data": {
      "text/plain": [
       "tensor([[[1., 2.],\n",
       "         [3., 4.]],\n",
       "\n",
       "        [[5., 6.],\n",
       "         [7., 8.]]])"
      ]
     },
     "execution_count": 8,
     "metadata": {},
     "output_type": "execute_result"
    }
   ],
   "source": [
    "t"
   ]
  },
  {
   "cell_type": "code",
   "execution_count": 9,
   "metadata": {},
   "outputs": [
    {
     "data": {
      "text/plain": [
       "tensor([[[1., 3., 2., 4.]],\n",
       "\n",
       "        [[5., 7., 6., 8.]]])"
      ]
     },
     "execution_count": 9,
     "metadata": {},
     "output_type": "execute_result"
    }
   ],
   "source": [
    "tt"
   ]
  },
  {
   "cell_type": "code",
   "execution_count": 10,
   "metadata": {},
   "outputs": [],
   "source": [
    "x = torch.rand(1,3,256)"
   ]
  },
  {
   "cell_type": "code",
   "execution_count": 16,
   "metadata": {},
   "outputs": [
    {
     "data": {
      "text/plain": [
       "UNetRes(\n",
       "  (m_head): Conv1d(3, 64, kernel_size=(3,), stride=(1,), padding=(1,), bias=False)\n",
       "  (m_down1): Sequential(\n",
       "    (0): ResBlock(\n",
       "      (res): Sequential(\n",
       "        (0): Conv1d(64, 64, kernel_size=(3,), stride=(1,), padding=(1,), bias=False)\n",
       "        (1): ReLU(inplace=True)\n",
       "        (2): Conv1d(64, 64, kernel_size=(3,), stride=(1,), padding=(1,), bias=False)\n",
       "      )\n",
       "    )\n",
       "    (1): ResBlock(\n",
       "      (res): Sequential(\n",
       "        (0): Conv1d(64, 64, kernel_size=(3,), stride=(1,), padding=(1,), bias=False)\n",
       "        (1): ReLU(inplace=True)\n",
       "        (2): Conv1d(64, 64, kernel_size=(3,), stride=(1,), padding=(1,), bias=False)\n",
       "      )\n",
       "    )\n",
       "    (2): ResBlock(\n",
       "      (res): Sequential(\n",
       "        (0): Conv1d(64, 64, kernel_size=(3,), stride=(1,), padding=(1,), bias=False)\n",
       "        (1): ReLU(inplace=True)\n",
       "        (2): Conv1d(64, 64, kernel_size=(3,), stride=(1,), padding=(1,), bias=False)\n",
       "      )\n",
       "    )\n",
       "    (3): ResBlock(\n",
       "      (res): Sequential(\n",
       "        (0): Conv1d(64, 64, kernel_size=(3,), stride=(1,), padding=(1,), bias=False)\n",
       "        (1): ReLU(inplace=True)\n",
       "        (2): Conv1d(64, 64, kernel_size=(3,), stride=(1,), padding=(1,), bias=False)\n",
       "      )\n",
       "    )\n",
       "    (4): Conv1d(64, 128, kernel_size=(2,), stride=(2,), bias=False)\n",
       "  )\n",
       "  (m_down2): Sequential(\n",
       "    (0): ResBlock(\n",
       "      (res): Sequential(\n",
       "        (0): Conv1d(128, 128, kernel_size=(3,), stride=(1,), padding=(1,), bias=False)\n",
       "        (1): ReLU(inplace=True)\n",
       "        (2): Conv1d(128, 128, kernel_size=(3,), stride=(1,), padding=(1,), bias=False)\n",
       "      )\n",
       "    )\n",
       "    (1): ResBlock(\n",
       "      (res): Sequential(\n",
       "        (0): Conv1d(128, 128, kernel_size=(3,), stride=(1,), padding=(1,), bias=False)\n",
       "        (1): ReLU(inplace=True)\n",
       "        (2): Conv1d(128, 128, kernel_size=(3,), stride=(1,), padding=(1,), bias=False)\n",
       "      )\n",
       "    )\n",
       "    (2): ResBlock(\n",
       "      (res): Sequential(\n",
       "        (0): Conv1d(128, 128, kernel_size=(3,), stride=(1,), padding=(1,), bias=False)\n",
       "        (1): ReLU(inplace=True)\n",
       "        (2): Conv1d(128, 128, kernel_size=(3,), stride=(1,), padding=(1,), bias=False)\n",
       "      )\n",
       "    )\n",
       "    (3): ResBlock(\n",
       "      (res): Sequential(\n",
       "        (0): Conv1d(128, 128, kernel_size=(3,), stride=(1,), padding=(1,), bias=False)\n",
       "        (1): ReLU(inplace=True)\n",
       "        (2): Conv1d(128, 128, kernel_size=(3,), stride=(1,), padding=(1,), bias=False)\n",
       "      )\n",
       "    )\n",
       "    (4): Conv1d(128, 256, kernel_size=(2,), stride=(2,), bias=False)\n",
       "  )\n",
       "  (m_down3): Sequential(\n",
       "    (0): ResBlock(\n",
       "      (res): Sequential(\n",
       "        (0): Conv1d(256, 256, kernel_size=(3,), stride=(1,), padding=(1,), bias=False)\n",
       "        (1): ReLU(inplace=True)\n",
       "        (2): Conv1d(256, 256, kernel_size=(3,), stride=(1,), padding=(1,), bias=False)\n",
       "      )\n",
       "    )\n",
       "    (1): ResBlock(\n",
       "      (res): Sequential(\n",
       "        (0): Conv1d(256, 256, kernel_size=(3,), stride=(1,), padding=(1,), bias=False)\n",
       "        (1): ReLU(inplace=True)\n",
       "        (2): Conv1d(256, 256, kernel_size=(3,), stride=(1,), padding=(1,), bias=False)\n",
       "      )\n",
       "    )\n",
       "    (2): ResBlock(\n",
       "      (res): Sequential(\n",
       "        (0): Conv1d(256, 256, kernel_size=(3,), stride=(1,), padding=(1,), bias=False)\n",
       "        (1): ReLU(inplace=True)\n",
       "        (2): Conv1d(256, 256, kernel_size=(3,), stride=(1,), padding=(1,), bias=False)\n",
       "      )\n",
       "    )\n",
       "    (3): ResBlock(\n",
       "      (res): Sequential(\n",
       "        (0): Conv1d(256, 256, kernel_size=(3,), stride=(1,), padding=(1,), bias=False)\n",
       "        (1): ReLU(inplace=True)\n",
       "        (2): Conv1d(256, 256, kernel_size=(3,), stride=(1,), padding=(1,), bias=False)\n",
       "      )\n",
       "    )\n",
       "    (4): Conv1d(256, 512, kernel_size=(2,), stride=(2,), bias=False)\n",
       "  )\n",
       "  (m_body): Sequential(\n",
       "    (0): ResBlock(\n",
       "      (res): Sequential(\n",
       "        (0): Conv1d(512, 512, kernel_size=(3,), stride=(1,), padding=(1,), bias=False)\n",
       "        (1): ReLU(inplace=True)\n",
       "        (2): Conv1d(512, 512, kernel_size=(3,), stride=(1,), padding=(1,), bias=False)\n",
       "      )\n",
       "    )\n",
       "    (1): ResBlock(\n",
       "      (res): Sequential(\n",
       "        (0): Conv1d(512, 512, kernel_size=(3,), stride=(1,), padding=(1,), bias=False)\n",
       "        (1): ReLU(inplace=True)\n",
       "        (2): Conv1d(512, 512, kernel_size=(3,), stride=(1,), padding=(1,), bias=False)\n",
       "      )\n",
       "    )\n",
       "    (2): ResBlock(\n",
       "      (res): Sequential(\n",
       "        (0): Conv1d(512, 512, kernel_size=(3,), stride=(1,), padding=(1,), bias=False)\n",
       "        (1): ReLU(inplace=True)\n",
       "        (2): Conv1d(512, 512, kernel_size=(3,), stride=(1,), padding=(1,), bias=False)\n",
       "      )\n",
       "    )\n",
       "    (3): ResBlock(\n",
       "      (res): Sequential(\n",
       "        (0): Conv1d(512, 512, kernel_size=(3,), stride=(1,), padding=(1,), bias=False)\n",
       "        (1): ReLU(inplace=True)\n",
       "        (2): Conv1d(512, 512, kernel_size=(3,), stride=(1,), padding=(1,), bias=False)\n",
       "      )\n",
       "    )\n",
       "  )\n",
       "  (m_up3): Sequential(\n",
       "    (0): ConvTranspose1d(512, 256, kernel_size=(2,), stride=(2,), bias=False)\n",
       "    (1): ResBlock(\n",
       "      (res): Sequential(\n",
       "        (0): Conv1d(256, 256, kernel_size=(3,), stride=(1,), padding=(1,), bias=False)\n",
       "        (1): ReLU(inplace=True)\n",
       "        (2): Conv1d(256, 256, kernel_size=(3,), stride=(1,), padding=(1,), bias=False)\n",
       "      )\n",
       "    )\n",
       "    (2): ResBlock(\n",
       "      (res): Sequential(\n",
       "        (0): Conv1d(256, 256, kernel_size=(3,), stride=(1,), padding=(1,), bias=False)\n",
       "        (1): ReLU(inplace=True)\n",
       "        (2): Conv1d(256, 256, kernel_size=(3,), stride=(1,), padding=(1,), bias=False)\n",
       "      )\n",
       "    )\n",
       "    (3): ResBlock(\n",
       "      (res): Sequential(\n",
       "        (0): Conv1d(256, 256, kernel_size=(3,), stride=(1,), padding=(1,), bias=False)\n",
       "        (1): ReLU(inplace=True)\n",
       "        (2): Conv1d(256, 256, kernel_size=(3,), stride=(1,), padding=(1,), bias=False)\n",
       "      )\n",
       "    )\n",
       "    (4): ResBlock(\n",
       "      (res): Sequential(\n",
       "        (0): Conv1d(256, 256, kernel_size=(3,), stride=(1,), padding=(1,), bias=False)\n",
       "        (1): ReLU(inplace=True)\n",
       "        (2): Conv1d(256, 256, kernel_size=(3,), stride=(1,), padding=(1,), bias=False)\n",
       "      )\n",
       "    )\n",
       "  )\n",
       "  (m_up2): Sequential(\n",
       "    (0): ConvTranspose1d(256, 128, kernel_size=(2,), stride=(2,), bias=False)\n",
       "    (1): ResBlock(\n",
       "      (res): Sequential(\n",
       "        (0): Conv1d(128, 128, kernel_size=(3,), stride=(1,), padding=(1,), bias=False)\n",
       "        (1): ReLU(inplace=True)\n",
       "        (2): Conv1d(128, 128, kernel_size=(3,), stride=(1,), padding=(1,), bias=False)\n",
       "      )\n",
       "    )\n",
       "    (2): ResBlock(\n",
       "      (res): Sequential(\n",
       "        (0): Conv1d(128, 128, kernel_size=(3,), stride=(1,), padding=(1,), bias=False)\n",
       "        (1): ReLU(inplace=True)\n",
       "        (2): Conv1d(128, 128, kernel_size=(3,), stride=(1,), padding=(1,), bias=False)\n",
       "      )\n",
       "    )\n",
       "    (3): ResBlock(\n",
       "      (res): Sequential(\n",
       "        (0): Conv1d(128, 128, kernel_size=(3,), stride=(1,), padding=(1,), bias=False)\n",
       "        (1): ReLU(inplace=True)\n",
       "        (2): Conv1d(128, 128, kernel_size=(3,), stride=(1,), padding=(1,), bias=False)\n",
       "      )\n",
       "    )\n",
       "    (4): ResBlock(\n",
       "      (res): Sequential(\n",
       "        (0): Conv1d(128, 128, kernel_size=(3,), stride=(1,), padding=(1,), bias=False)\n",
       "        (1): ReLU(inplace=True)\n",
       "        (2): Conv1d(128, 128, kernel_size=(3,), stride=(1,), padding=(1,), bias=False)\n",
       "      )\n",
       "    )\n",
       "  )\n",
       "  (m_up1): Sequential(\n",
       "    (0): ConvTranspose1d(128, 64, kernel_size=(2,), stride=(2,), bias=False)\n",
       "    (1): ResBlock(\n",
       "      (res): Sequential(\n",
       "        (0): Conv1d(64, 64, kernel_size=(3,), stride=(1,), padding=(1,), bias=False)\n",
       "        (1): ReLU(inplace=True)\n",
       "        (2): Conv1d(64, 64, kernel_size=(3,), stride=(1,), padding=(1,), bias=False)\n",
       "      )\n",
       "    )\n",
       "    (2): ResBlock(\n",
       "      (res): Sequential(\n",
       "        (0): Conv1d(64, 64, kernel_size=(3,), stride=(1,), padding=(1,), bias=False)\n",
       "        (1): ReLU(inplace=True)\n",
       "        (2): Conv1d(64, 64, kernel_size=(3,), stride=(1,), padding=(1,), bias=False)\n",
       "      )\n",
       "    )\n",
       "    (3): ResBlock(\n",
       "      (res): Sequential(\n",
       "        (0): Conv1d(64, 64, kernel_size=(3,), stride=(1,), padding=(1,), bias=False)\n",
       "        (1): ReLU(inplace=True)\n",
       "        (2): Conv1d(64, 64, kernel_size=(3,), stride=(1,), padding=(1,), bias=False)\n",
       "      )\n",
       "    )\n",
       "    (4): ResBlock(\n",
       "      (res): Sequential(\n",
       "        (0): Conv1d(64, 64, kernel_size=(3,), stride=(1,), padding=(1,), bias=False)\n",
       "        (1): ReLU(inplace=True)\n",
       "        (2): Conv1d(64, 64, kernel_size=(3,), stride=(1,), padding=(1,), bias=False)\n",
       "      )\n",
       "    )\n",
       "  )\n",
       "  (m_tail): Conv1d(64, 3, kernel_size=(3,), stride=(1,), padding=(1,), bias=False)\n",
       ")"
      ]
     },
     "execution_count": 16,
     "metadata": {},
     "output_type": "execute_result"
    }
   ],
   "source": [
    "# GRANDEE must be defined in PYTHONPATH for this to work...\n",
    "from network_unet import UNetRes\n",
    "n = UNetRes(in_nc=3, out_nc=3)\n",
    "n.eval()"
   ]
  },
  {
   "cell_type": "code",
   "execution_count": 15,
   "metadata": {},
   "outputs": [
    {
     "data": {
      "text/plain": [
       "torch.Size([1, 3, 256])"
      ]
     },
     "execution_count": 15,
     "metadata": {},
     "output_type": "execute_result"
    }
   ],
   "source": [
    "with torch.no_grad():\n",
    "    y = n(x)\n",
    "y.size()"
   ]
  },
  {
   "cell_type": "code",
   "execution_count": null,
   "metadata": {},
   "outputs": [],
   "source": []
  }
 ],
 "metadata": {
  "kernelspec": {
   "display_name": "Python 3",
   "language": "python",
   "name": "python3"
  },
  "language_info": {
   "codemirror_mode": {
    "name": "ipython",
    "version": 3
   },
   "file_extension": ".py",
   "mimetype": "text/x-python",
   "name": "python",
   "nbconvert_exporter": "python",
   "pygments_lexer": "ipython3",
   "version": "3.10.12"
  }
 },
 "nbformat": 4,
 "nbformat_minor": 2
}
